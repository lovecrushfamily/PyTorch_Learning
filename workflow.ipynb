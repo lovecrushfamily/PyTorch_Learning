{
 "cells": [
  {
   "cell_type": "markdown",
   "metadata": {},
   "source": [
    "# Pytorch Workflow fundamentals\n",
    "\n",
    "- The essence of machine learning and deep learning is to take some data from the past, build an algorithm (like a neural network) to discover patterns in it and use the discovered patterns to predict the future."
   ]
  },
  {
   "cell_type": "code",
   "execution_count": 43,
   "metadata": {},
   "outputs": [
    {
     "name": "stdout",
     "output_type": "stream",
     "text": [
      "2.4.1+cu121\n"
     ]
    },
    {
     "data": {
      "text/plain": [
       "{1: 'data (preparing data)',\n",
       " 2: 'building model ',\n",
       " 3: 'fitting the model to data',\n",
       " 4: 'making prediction and evaluating the model',\n",
       " 5: 'saving and loading the model',\n",
       " 6: 'putting it all together'}"
      ]
     },
     "execution_count": 43,
     "metadata": {},
     "output_type": "execute_result"
    }
   ],
   "source": [
    "import torch\n",
    "import matplotlib.pyplot as plt\n",
    "from torch import nn\n",
    "import seaborn as sns\n",
    "\n",
    "print(torch.__version__)\n",
    "\n",
    "What_this_module_covering = {\n",
    "    1: \"data (preparing data)\",\n",
    "    2: \"building model \",\n",
    "    3: \"fitting the model to data\",\n",
    "    4: \"making prediction and evaluating the model\",\n",
    "    5: \"saving and loading the model\",\n",
    "    6: \"putting it all together\"\n",
    "}\n",
    "What_this_module_covering"
   ]
  },
  {
   "cell_type": "markdown",
   "metadata": {},
   "source": [
    "***"
   ]
  },
  {
   "cell_type": "markdown",
   "metadata": {},
   "source": [
    "## 1. Data (preparing and loading)\n",
    "\n",
    "Data in machine learning can be almost anything you can imagine: \n",
    "\n",
    "- *A table of number (Excel, Csv, ...)*\n",
    "\n",
    "- *image of any kind, videos (Youtube has lots of data)*\n",
    "\n",
    "- *audio like file songs or podcast*\n",
    "\n",
    "- *protein structure*\n",
    "\n",
    "- *text, content,..*\n",
    "\n",
    "**Machine learning is a game of two parts:**\n",
    "\n",
    "- *Turn your data, whatever it is, into numbers (a representation).*\n",
    "\n",
    "- *Pick or build a model to learn the representation as best as possible.*\n",
    "\n"
   ]
  },
  {
   "cell_type": "code",
   "execution_count": 44,
   "metadata": {},
   "outputs": [
    {
     "data": {
      "text/plain": [
       "(tensor([[0.0000],\n",
       "         [0.0200],\n",
       "         [0.0400],\n",
       "         [0.0600],\n",
       "         [0.0800],\n",
       "         [0.1000],\n",
       "         [0.1200],\n",
       "         [0.1400],\n",
       "         [0.1600],\n",
       "         [0.1800]]),\n",
       " '^',\n",
       " tensor([[0.3000],\n",
       "         [0.3140],\n",
       "         [0.3280],\n",
       "         [0.3420],\n",
       "         [0.3560],\n",
       "         [0.3700],\n",
       "         [0.3840],\n",
       "         [0.3980],\n",
       "         [0.4120],\n",
       "         [0.4260]]))"
      ]
     },
     "execution_count": 44,
     "metadata": {},
     "output_type": "execute_result"
    }
   ],
   "source": [
    "# Creating some data, a straight line\n",
    "# Creating known parameter\n",
    "weight = 0.7\n",
    "bias = 0.3\n",
    "\n",
    "# create data\n",
    "start = 0\n",
    "end = 1\n",
    "step = 0.02\n",
    "X = torch.arange(start, end, step).unsqueeze(dim=1)\n",
    "y = weight * X + bias\n",
    "\n",
    "X[:10], \"^\", y[:10]"
   ]
  },
  {
   "cell_type": "markdown",
   "metadata": {},
   "source": [
    "### *Spit data into training and test sets*\n",
    "\n",
    "- *We've got some data*\n",
    "- *But before we build a model we need to split it up*\n",
    "- *One of the most important step in machine learning project is creating a training and test set(And when required, a validation set)*\n",
    "\n"
   ]
  },
  {
   "cell_type": "code",
   "execution_count": 45,
   "metadata": {},
   "outputs": [
    {
     "data": {
      "text/plain": [
       "(40, 40, 10, 10)"
      ]
     },
     "execution_count": 45,
     "metadata": {},
     "output_type": "execute_result"
    }
   ],
   "source": [
    "train_split = int(0.8 * len(X))\n",
    "X_train, y_train = X[:train_split], X[:train_split]\n",
    "X_test, y_test = X[train_split:], y[train_split:]\n",
    "\n",
    "len(X_train), len(y_train), len(X_test), len(y_test)\n"
   ]
  },
  {
   "cell_type": "markdown",
   "metadata": {},
   "source": [
    "### *Visualize the dataset in line by a plot_function*"
   ]
  },
  {
   "cell_type": "code",
   "execution_count": 46,
   "metadata": {},
   "outputs": [
    {
     "data": {
      "image/png": "[encoded data removed]",
      "text/plain": [
       "<Figure size 640x480 with 1 Axes>"
      ]
     },
     "metadata": {},
     "output_type": "display_data"
    }
   ],
   "source": [
    "def plot_predictions(train_data=X_train, \n",
    "                     train_labels=y_train, \n",
    "                     test_data=X_test, \n",
    "                     test_labels=y_test, \n",
    "                     predictions=None) -> None:\n",
    "\n",
    "    sns.scatterplot(x=train_data.flatten(),\n",
    "                    y=train_labels.flatten(), \n",
    "                    label=\"Training data\")    \n",
    "    \n",
    "    sns.scatterplot(x=test_data.flatten(), \n",
    "                    y=test_labels.flatten(), \n",
    "                    label=\"Testing data\")\n",
    "\n",
    "    if predictions is not None:\n",
    "        sns.scatterplot(x=test_data.flatten(), \n",
    "                        y=predictions.flatten(),\n",
    "                        label=\"Predictions\")\n",
    "\n",
    "    plt.legend()\n",
    "    plt.tight_layout()\n",
    "    plt.show()\n",
    "\n",
    "\n",
    "plot_predictions(X_train, y_train, X_test, y_test)"
   ]
  },
  {
   "cell_type": "markdown",
   "metadata": {},
   "source": [
    "***"
   ]
  },
  {
   "cell_type": "markdown",
   "metadata": {},
   "source": [
    "## 2. Build Model\n",
    "\n",
    "- *Now we've got some data, let's build a model to use the blue dots to predict the test set*\n",
    "\n",
    "- *Let's replicate a standard linear regression model using pure PyTorch*\n",
    "\n",
    "**Four essential modules you can use to create almost any kind of neural network you can imagine**\n",
    "\n",
    "        torch.nn            : Contains all of the building blocks for computational graphs\n",
    "        torch.nn.Parameter  : Stores tensors that can be used with nn.Module.\n",
    "        torch.nn.Module     : The base class for all neural network modules, all the building blocks for neural networks are subclasses\n",
    "        torch.optim         : Contains various optimization algorithms\n",
    "        def forward()       : All nn.Module subclasses required a forward() method\n",
    "\n",
    "\n",
    "***Note:*** \n",
    "\n",
    "- *The optimization algorithms tells the model parameters stored in **nn.Parameter** how to best change to improve gradient descent and in turn reduce the loss*\n",
    "- *The forward method defines the forward computation that will take place on the data passed to the particular **nn.Module** (the linear regression formula above)*\n",
    "- *Almost everything in a PyTorch neural network comes from **torch.nn***\n",
    "\n",
    "<img src=\"image_ref/pytorch_module.png\" style=\"width:1000px\">\n"
   ]
  },
  {
   "cell_type": "code",
   "execution_count": 47,
   "metadata": {},
   "outputs": [],
   "source": [
    "class LinearRegressionModel(nn.Module):                                 # Create a Linear Regression model class\n",
    "    def __init__(self, *args, **kwargs) -> None:\n",
    "        super().__init__(*args, **kwargs)\n",
    "        self.weights = nn.Parameter(torch.randn(1,                      # -> start with random weights (this will get adjusted as the model learns)\n",
    "                                                dtype=torch.float32),   # -> PyTorch loves float32 bby default\n",
    "                                                requires_grad=True)     # -> can we update this values with gradient descent?\n",
    "        \n",
    "        self.bias = nn.Parameter(torch.randn(1,                         # -> set the bias as the random num(this params will get adjusted during model training)\n",
    "                                             dtype=torch.float32),      # -> Have no clue about it, but anyway it's a default\n",
    "                                             requires_grad=True)        # -> Set this params as True mean this value can be update with gradient descent?       \n",
    "        \n",
    "    def forward(self, X:torch.Tensor) -> torch.Tensor:                  # -> \"X\" is the input data (e.g training/testing features)\n",
    "        return self.weights * X + self.bias                             # -> This is the linear regression formula (y = m*x + b)"
   ]
  },
  {
   "cell_type": "markdown",
   "metadata": {},
   "source": [
    "### *Checking the PyTorch model pre-define above*\n",
    "\n",
    "- Set the manual_seed since nn.Parameter are randomly initialized\n",
    "- Create an instance of the model (this is the subclass of nn.Module that contains nn.Parameter(s))\n",
    "- Check the nn.Parameters() we just created"
   ]
  },
  {
   "cell_type": "code",
   "execution_count": 48,
   "metadata": {},
   "outputs": [
    {
     "data": {
      "text/plain": [
       "[Parameter containing:\n",
       " tensor([-0.7056], requires_grad=True),\n",
       " Parameter containing:\n",
       " tensor([0.6741], requires_grad=True)]"
      ]
     },
     "execution_count": 48,
     "metadata": {},
     "output_type": "execute_result"
    }
   ],
   "source": [
    "torch.manual_seed(15)\n",
    "\n",
    "model_linear = LinearRegressionModel()\n",
    "\n",
    "list(model_linear.parameters())"
   ]
  },
  {
   "cell_type": "markdown",
   "metadata": {},
   "source": [
    "### *Another way to check the model hyper-params*"
   ]
  },
  {
   "cell_type": "code",
   "execution_count": 49,
   "metadata": {},
   "outputs": [
    {
     "data": {
      "text/plain": [
       "OrderedDict([('weights', tensor([-0.7056])), ('bias', tensor([0.6741]))])"
      ]
     },
     "execution_count": 49,
     "metadata": {},
     "output_type": "execute_result"
    }
   ],
   "source": [
    "model_linear.state_dict()"
   ]
  },
  {
   "cell_type": "markdown",
   "metadata": {},
   "source": [
    "### *Making prediction using inferences_mode*\n",
    "\n",
    "- We can check how closely it predict the **y_test** by passing the **X_test** into the inference mode\n",
    "- When we pass data to our model, it'll go through the model's **forward()** method and produce a result using the computation we've defined"
   ]
  },
  {
   "cell_type": "code",
   "execution_count": 50,
   "metadata": {},
   "outputs": [
    {
     "data": {
      "text/plain": [
       "tensor([[ 0.1096],\n",
       "        [ 0.0955],\n",
       "        [ 0.0814],\n",
       "        [ 0.0673],\n",
       "        [ 0.0532],\n",
       "        [ 0.0390],\n",
       "        [ 0.0249],\n",
       "        [ 0.0108],\n",
       "        [-0.0033],\n",
       "        [-0.0174]])"
      ]
     },
     "execution_count": 50,
     "metadata": {},
     "output_type": "execute_result"
    }
   ],
   "source": [
    "with torch.inference_mode():        # -> Enter inference mode: using when we need model make predictions\n",
    "    y_preds = model_linear(X_test)       # -> make predictions with model\n",
    "\n",
    "y_preds                             # -> check the prediction\n",
    "\n",
    "\n",
    "\n",
    "## Note : in older PyTorch code you might also see torch.no_grad()\n",
    "# with torch.no_grad():\n",
    "#     y_preds = model_linear(X_test)\n",
    "    "
   ]
  },
  {
   "cell_type": "markdown",
   "metadata": {},
   "source": [
    "### Check the predictions\n",
    "\n",
    "- *Those predictions look pretty bad..*\n",
    "- *This make sense through, when you remember our model is just using random parameter values to make prediction*\n",
    "- *It hasn't even looked at the train dots to try to predict the test dots*\n",
    "- *Time to change that*"
   ]
  },
  {
   "cell_type": "code",
   "execution_count": 51,
   "metadata": {},
   "outputs": [
    {
     "data": {
      "image/png": "[encoded data removed]",
      "text/plain": [
       "<Figure size 640x480 with 1 Axes>"
      ]
     },
     "metadata": {},
     "output_type": "display_data"
    }
   ],
   "source": [
    "plot_predictions(predictions=y_preds)"
   ]
  },
  {
   "cell_type": "code",
   "execution_count": 52,
   "metadata": {},
   "outputs": [
    {
     "data": {
      "text/plain": [
       "tensor([[0.7504],\n",
       "        [0.7785],\n",
       "        [0.8066],\n",
       "        [0.8347],\n",
       "        [0.8628],\n",
       "        [0.8910],\n",
       "        [0.9191],\n",
       "        [0.9472],\n",
       "        [0.9753],\n",
       "        [1.0034]])"
      ]
     },
     "execution_count": 52,
     "metadata": {},
     "output_type": "execute_result"
    }
   ],
   "source": [
    "y_test - y_preds"
   ]
  },
  {
   "cell_type": "markdown",
   "metadata": {},
   "source": [
    "***"
   ]
  },
  {
   "cell_type": "markdown",
   "metadata": {},
   "source": [
    "## 3. Train Model\n",
    "\n",
    "**Currently**\n",
    "\n",
    "- The model is just using the random parameter to make calculations, It's basically guessing randomly\n",
    "\n",
    "**Solution**\n",
    "- *To fix that we can update its internal parameters( I also refer to parameters as patterns),  the weights and bias values was set randomly to something better represents the data*\n",
    "\n",
    "- *Much of the time we won't know what the ideal parameters are for the model*\n",
    "\n",
    "- *Instead, it's much more fun to write code to see if the model can try and figure them out itself*"
   ]
  },
  {
   "cell_type": "markdown",
   "metadata": {},
   "source": [
    "### *Creating a loss function and optimizer in PyTorch*\n",
    "\n",
    "- *For our model to update its parameters on its own, we'll need to add a few more things to our recipe*\n",
    "\n",
    "        Loss function and Optimizer\n",
    "\n",
    "**Roles of these two are**\n",
    "\n",
    "- **Loss function :**   *Measure how wrong your model's predictions are compare to the truth labels* E.g. MAE, MSE, RMSE..\n",
    "- **Optimizer     :**   *Tells your model how to update its internal parameters to best*             E.g. Stochastic Gradient Decent, Adam\n"
   ]
  },
  {
   "cell_type": "code",
   "execution_count": null,
   "metadata": {},
   "outputs": [],
   "source": [
    "# Create loss function\n",
    "loss_fn = torch.nn.L1Loss()                                     # -> MAE loss is same as L1Loss\n",
    "\n",
    "# Create the optimizer\n",
    "optimizer = torch.optim.SGD(params=model_linear.parameters(),   # -> parameters of target model to optimize\n",
    "                            lr=0.01)                            # -> learning rate (how much the optimizer should change parameters at each step)\n",
    "                                                                    #higher = more (less stable) \n",
    "                                                                    #Lower  = less (might take a long time)\n",
    "\n"
   ]
  },
  {
   "cell_type": "markdown",
   "metadata": {},
   "source": [
    "### *Creating optimization loop in PyTorch*\n",
    "\n",
    "- *Now we have loss function and optimizer, It's time to create a **Training_loop** and **Testing_loop***\n",
    "\n",
    "**The training loop** *involves the model going through the training data and learning the relationships between the Features and Labels*\n",
    "\n",
    "**The testing loop** *involves going through the testing data and evaluating how good the patterns are model learned on training data*\n",
    "\n",
    "***Note:***\n",
    "- Each of these is called a \"loop\" because we want our model to look (loop through) at each example in each dataset"
   ]
  },
  {
   "cell_type": "code",
   "execution_count": 71,
   "metadata": {},
   "outputs": [
    {
     "name": "stdout",
     "output_type": "stream",
     "text": [
      "Epoch: 0 | MAE train loss: 0.007215976715087891 | MAE test loss 0.03166043013334274\n",
      "Epoch: 10 | MAE train loss: 0.007215976715087891 | MAE test loss 0.03166043013334274\n",
      "Epoch: 20 | MAE train loss: 0.007215976715087891 | MAE test loss 0.03166043013334274\n",
      "Epoch: 30 | MAE train loss: 0.007215976715087891 | MAE test loss 0.03166043013334274\n",
      "Epoch: 40 | MAE train loss: 0.007215976715087891 | MAE test loss 0.03166043013334274\n",
      "Epoch: 50 | MAE train loss: 0.007215976715087891 | MAE test loss 0.03166043013334274\n",
      "Epoch: 60 | MAE train loss: 0.007215976715087891 | MAE test loss 0.03166043013334274\n",
      "Epoch: 70 | MAE train loss: 0.007215976715087891 | MAE test loss 0.03166043013334274\n",
      "Epoch: 80 | MAE train loss: 0.007215976715087891 | MAE test loss 0.03166043013334274\n",
      "Epoch: 90 | MAE train loss: 0.007215976715087891 | MAE test loss 0.03166043013334274\n",
      "Epoch: 100 | MAE train loss: 0.007215976715087891 | MAE test loss 0.03166043013334274\n",
      "Epoch: 110 | MAE train loss: 0.007215976715087891 | MAE test loss 0.03166043013334274\n",
      "Epoch: 120 | MAE train loss: 0.007215976715087891 | MAE test loss 0.03166043013334274\n",
      "Epoch: 130 | MAE train loss: 0.007215976715087891 | MAE test loss 0.03166043013334274\n",
      "Epoch: 140 | MAE train loss: 0.007215976715087891 | MAE test loss 0.03166043013334274\n",
      "Epoch: 150 | MAE train loss: 0.007215976715087891 | MAE test loss 0.03166043013334274\n",
      "Epoch: 160 | MAE train loss: 0.007215976715087891 | MAE test loss 0.03166043013334274\n",
      "Epoch: 170 | MAE train loss: 0.007215976715087891 | MAE test loss 0.03166043013334274\n",
      "Epoch: 180 | MAE train loss: 0.007215976715087891 | MAE test loss 0.03166043013334274\n",
      "Epoch: 190 | MAE train loss: 0.007215976715087891 | MAE test loss 0.03166043013334274\n",
      "Epoch: 200 | MAE train loss: 0.007215976715087891 | MAE test loss 0.03166043013334274\n",
      "Epoch: 210 | MAE train loss: 0.007215976715087891 | MAE test loss 0.03166043013334274\n",
      "Epoch: 220 | MAE train loss: 0.007215976715087891 | MAE test loss 0.03166043013334274\n",
      "Epoch: 230 | MAE train loss: 0.007215976715087891 | MAE test loss 0.03166043013334274\n",
      "Epoch: 240 | MAE train loss: 0.007215976715087891 | MAE test loss 0.03166043013334274\n",
      "Epoch: 250 | MAE train loss: 0.007215976715087891 | MAE test loss 0.03166043013334274\n",
      "Epoch: 260 | MAE train loss: 0.007215976715087891 | MAE test loss 0.03166043013334274\n",
      "Epoch: 270 | MAE train loss: 0.007215976715087891 | MAE test loss 0.03166043013334274\n",
      "Epoch: 280 | MAE train loss: 0.007215976715087891 | MAE test loss 0.03166043013334274\n",
      "Epoch: 290 | MAE train loss: 0.007215976715087891 | MAE test loss 0.03166043013334274\n",
      "Epoch: 300 | MAE train loss: 0.007215976715087891 | MAE test loss 0.03166043013334274\n",
      "Epoch: 310 | MAE train loss: 0.007215976715087891 | MAE test loss 0.03166043013334274\n",
      "Epoch: 320 | MAE train loss: 0.007215976715087891 | MAE test loss 0.03166043013334274\n",
      "Epoch: 330 | MAE train loss: 0.007215976715087891 | MAE test loss 0.03166043013334274\n",
      "Epoch: 340 | MAE train loss: 0.007215976715087891 | MAE test loss 0.03166043013334274\n",
      "Epoch: 350 | MAE train loss: 0.007215976715087891 | MAE test loss 0.03166043013334274\n",
      "Epoch: 360 | MAE train loss: 0.007215976715087891 | MAE test loss 0.03166043013334274\n",
      "Epoch: 370 | MAE train loss: 0.007215976715087891 | MAE test loss 0.03166043013334274\n",
      "Epoch: 380 | MAE train loss: 0.007215976715087891 | MAE test loss 0.03166043013334274\n",
      "Epoch: 390 | MAE train loss: 0.007215976715087891 | MAE test loss 0.03166043013334274\n",
      "Epoch: 400 | MAE train loss: 0.007215976715087891 | MAE test loss 0.03166043013334274\n",
      "Epoch: 410 | MAE train loss: 0.007215976715087891 | MAE test loss 0.03166043013334274\n",
      "Epoch: 420 | MAE train loss: 0.007215976715087891 | MAE test loss 0.03166043013334274\n",
      "Epoch: 430 | MAE train loss: 0.007215976715087891 | MAE test loss 0.03166043013334274\n",
      "Epoch: 440 | MAE train loss: 0.007215976715087891 | MAE test loss 0.03166043013334274\n",
      "Epoch: 450 | MAE train loss: 0.007215976715087891 | MAE test loss 0.03166043013334274\n",
      "Epoch: 460 | MAE train loss: 0.007215976715087891 | MAE test loss 0.03166043013334274\n",
      "Epoch: 470 | MAE train loss: 0.007215976715087891 | MAE test loss 0.03166043013334274\n",
      "Epoch: 480 | MAE train loss: 0.007215976715087891 | MAE test loss 0.03166043013334274\n",
      "Epoch: 490 | MAE train loss: 0.007215976715087891 | MAE test loss 0.03166043013334274\n",
      "Epoch: 500 | MAE train loss: 0.007215976715087891 | MAE test loss 0.03166043013334274\n",
      "Epoch: 510 | MAE train loss: 0.007215976715087891 | MAE test loss 0.03166043013334274\n",
      "Epoch: 520 | MAE train loss: 0.007215976715087891 | MAE test loss 0.03166043013334274\n",
      "Epoch: 530 | MAE train loss: 0.007215976715087891 | MAE test loss 0.03166043013334274\n",
      "Epoch: 540 | MAE train loss: 0.007215976715087891 | MAE test loss 0.03166043013334274\n",
      "Epoch: 550 | MAE train loss: 0.007215976715087891 | MAE test loss 0.03166043013334274\n",
      "Epoch: 560 | MAE train loss: 0.007215976715087891 | MAE test loss 0.03166043013334274\n",
      "Epoch: 570 | MAE train loss: 0.007215976715087891 | MAE test loss 0.03166043013334274\n",
      "Epoch: 580 | MAE train loss: 0.007215976715087891 | MAE test loss 0.03166043013334274\n",
      "Epoch: 590 | MAE train loss: 0.007215976715087891 | MAE test loss 0.03166043013334274\n",
      "Epoch: 600 | MAE train loss: 0.007215976715087891 | MAE test loss 0.03166043013334274\n",
      "Epoch: 610 | MAE train loss: 0.007215976715087891 | MAE test loss 0.03166043013334274\n",
      "Epoch: 620 | MAE train loss: 0.007215976715087891 | MAE test loss 0.03166043013334274\n",
      "Epoch: 630 | MAE train loss: 0.007215976715087891 | MAE test loss 0.03166043013334274\n",
      "Epoch: 640 | MAE train loss: 0.007215976715087891 | MAE test loss 0.03166043013334274\n",
      "Epoch: 650 | MAE train loss: 0.007215976715087891 | MAE test loss 0.03166043013334274\n",
      "Epoch: 660 | MAE train loss: 0.007215976715087891 | MAE test loss 0.03166043013334274\n",
      "Epoch: 670 | MAE train loss: 0.007215976715087891 | MAE test loss 0.03166043013334274\n",
      "Epoch: 680 | MAE train loss: 0.007215976715087891 | MAE test loss 0.03166043013334274\n",
      "Epoch: 690 | MAE train loss: 0.007215976715087891 | MAE test loss 0.03166043013334274\n",
      "Epoch: 700 | MAE train loss: 0.007215976715087891 | MAE test loss 0.03166043013334274\n",
      "Epoch: 710 | MAE train loss: 0.007215976715087891 | MAE test loss 0.03166043013334274\n",
      "Epoch: 720 | MAE train loss: 0.007215976715087891 | MAE test loss 0.03166043013334274\n",
      "Epoch: 730 | MAE train loss: 0.007215976715087891 | MAE test loss 0.03166043013334274\n",
      "Epoch: 740 | MAE train loss: 0.007215976715087891 | MAE test loss 0.03166043013334274\n",
      "Epoch: 750 | MAE train loss: 0.007215976715087891 | MAE test loss 0.03166043013334274\n",
      "Epoch: 760 | MAE train loss: 0.007215976715087891 | MAE test loss 0.03166043013334274\n",
      "Epoch: 770 | MAE train loss: 0.007215976715087891 | MAE test loss 0.03166043013334274\n",
      "Epoch: 780 | MAE train loss: 0.007215976715087891 | MAE test loss 0.03166043013334274\n",
      "Epoch: 790 | MAE train loss: 0.007215976715087891 | MAE test loss 0.03166043013334274\n",
      "Epoch: 800 | MAE train loss: 0.007215976715087891 | MAE test loss 0.03166043013334274\n",
      "Epoch: 810 | MAE train loss: 0.007215976715087891 | MAE test loss 0.03166043013334274\n",
      "Epoch: 820 | MAE train loss: 0.007215976715087891 | MAE test loss 0.03166043013334274\n",
      "Epoch: 830 | MAE train loss: 0.007215976715087891 | MAE test loss 0.03166043013334274\n",
      "Epoch: 840 | MAE train loss: 0.007215976715087891 | MAE test loss 0.03166043013334274\n",
      "Epoch: 850 | MAE train loss: 0.007215976715087891 | MAE test loss 0.03166043013334274\n",
      "Epoch: 860 | MAE train loss: 0.007215976715087891 | MAE test loss 0.03166043013334274\n",
      "Epoch: 870 | MAE train loss: 0.007215976715087891 | MAE test loss 0.03166043013334274\n",
      "Epoch: 880 | MAE train loss: 0.007215976715087891 | MAE test loss 0.03166043013334274\n",
      "Epoch: 890 | MAE train loss: 0.007215976715087891 | MAE test loss 0.03166043013334274\n",
      "Epoch: 900 | MAE train loss: 0.007215976715087891 | MAE test loss 0.03166043013334274\n",
      "Epoch: 910 | MAE train loss: 0.007215976715087891 | MAE test loss 0.03166043013334274\n",
      "Epoch: 920 | MAE train loss: 0.007215976715087891 | MAE test loss 0.03166043013334274\n",
      "Epoch: 930 | MAE train loss: 0.007215976715087891 | MAE test loss 0.03166043013334274\n",
      "Epoch: 940 | MAE train loss: 0.007215976715087891 | MAE test loss 0.03166043013334274\n",
      "Epoch: 950 | MAE train loss: 0.007215976715087891 | MAE test loss 0.03166043013334274\n",
      "Epoch: 960 | MAE train loss: 0.007215976715087891 | MAE test loss 0.03166043013334274\n",
      "Epoch: 970 | MAE train loss: 0.007215976715087891 | MAE test loss 0.03166043013334274\n",
      "Epoch: 980 | MAE train loss: 0.007215976715087891 | MAE test loss 0.03166043013334274\n",
      "Epoch: 990 | MAE train loss: 0.007215976715087891 | MAE test loss 0.03166043013334274\n"
     ]
    }
   ],
   "source": [
    "torch.manual_seed(16)\n",
    "\n",
    "epochs = 1000                                                # -> Set the number of epochs (how many time the model will pass over the training data)\n",
    "\n",
    "train_loss_values = []                                      # -> Creating empty loss lists to track values\n",
    "test_loss_values  = []\n",
    "epoch_count       = []\n",
    "\n",
    "for epoch in range(epochs):                                 # -> Training loop\n",
    "\n",
    "    ### Training\n",
    "    model_linear.train()                                    # -> Put the model in training mode (This is a default state of the model)\n",
    "\n",
    "    y_preds = model_linear(X_train)                         # 1. forward pass on training data using forward() method inside\n",
    "\n",
    "    loss = loss_fn(y_preds, y_train)                        # 2. Calculate the loss (how differences are our models predictions to the ground truth)\n",
    "\n",
    "    optimizer.zero_grad()                                   # 3. Zero_grad of the optimizer\n",
    "\n",
    "    loss.backward()                                         # 4. Loss backward\n",
    "\n",
    "    optimizer.step()                                        # 5. Progress the optimizer\n",
    "\n",
    "    ### Testing \n",
    "    model_linear.eval()                                             # -> Put the model in evaluation mode\n",
    "\n",
    "    with torch.inference_mode():                                    # 0. Enter the inference mode\n",
    "\n",
    "        test_pred = model_linear(X_test)                            # 1. Forward pass on test data\n",
    "\n",
    "        test_loss = loss_fn(test_pred, y_test.type(torch.float32))  # 2. Calculated the loss on test data\n",
    "\n",
    "        if epoch % 10 == 0:                                         # -> Print out what's happening\n",
    "\n",
    "            epoch_count.append(epoch)\n",
    "            train_loss_values.append(loss.detach().numpy())\n",
    "            test_loss_values.append(test_loss.detach().numpy())\n",
    "            \n",
    "            print(f\"Epoch: {epoch} | MAE train loss: {loss} | MAE test loss {test_loss}\")\n",
    "\n"
   ]
  },
  {
   "cell_type": "markdown",
   "metadata": {},
   "source": [
    "### *Plot the loss curves*"
   ]
  },
  {
   "cell_type": "code",
   "execution_count": 72,
   "metadata": {},
   "outputs": [
    {
     "data": {
      "text/plain": [
       "<matplotlib.legend.Legend at 0x7647737019d0>"
      ]
     },
     "execution_count": 72,
     "metadata": {},
     "output_type": "execute_result"
    },
    {
     "data": {
      "image/png": "[encoded data removed]",
      "text/plain": [
       "<Figure size 640x480 with 1 Axes>"
      ]
     },
     "metadata": {},
     "output_type": "display_data"
    }
   ],
   "source": [
    "plt.plot(epoch_count, train_loss_values, label='Train loss')\n",
    "plt.plot(epoch_count, test_loss_values, label='Test loss')\n",
    "plt.title(\"Training and test loss curves\")\n",
    "plt.ylabel(\"Loss\")\n",
    "plt.xlabel(\"Epochs\")\n",
    "plt.legend()"
   ]
  },
  {
   "cell_type": "markdown",
   "metadata": {},
   "source": [
    "**Remember:**\n",
    "\n",
    "- *Loss* is the measure of how wrong your model is, so the lower it is better it generalize to data"
   ]
  },
  {
   "cell_type": "code",
   "execution_count": 56,
   "metadata": {},
   "outputs": [
    {
     "data": {
      "text/plain": [
       "OrderedDict([('weights', tensor([0.1636])), ('bias', tensor([0.3511]))])"
      ]
     },
     "execution_count": 56,
     "metadata": {},
     "output_type": "execute_result"
    }
   ],
   "source": [
    "model_linear.state_dict()"
   ]
  },
  {
   "cell_type": "markdown",
   "metadata": {},
   "source": [
    "## 4. Inferences\n",
    "\n",
    "*Once you've trained a model, you'll likely want to make predictions with it*\n",
    "\n",
    "*There are three things to remember when making predictions ( also called performing inferences_mode():...)*\n",
    "\n",
    "        1. Set the model in evaluation mode                                     => model.eval()\n",
    "        2. Make the predictions using the inferences mode context manager       => with torch.inference_mode():\n",
    "        3. All predictions should be made with objects on the same device\n"
   ]
  },
  {
   "cell_type": "code",
   "execution_count": 74,
   "metadata": {},
   "outputs": [
    {
     "data": {
      "text/plain": [
       "tensor([[0.7888],\n",
       "        [0.8086],\n",
       "        [0.8284],\n",
       "        [0.8482],\n",
       "        [0.8680],\n",
       "        [0.8878],\n",
       "        [0.9076],\n",
       "        [0.9274],\n",
       "        [0.9472],\n",
       "        [0.9670]])"
      ]
     },
     "execution_count": 74,
     "metadata": {},
     "output_type": "execute_result"
    }
   ],
   "source": [
    "model_linear.eval()                      # -> Enter evaluation mode\n",
    "\n",
    "with torch.inference_mode():             # -> Enter the inference mode for predicting, testing\n",
    "\n",
    "    y_preds = model_linear(X_test)\n",
    "\n",
    "y_preds\n",
    "    "
   ]
  },
  {
   "cell_type": "code",
   "execution_count": 75,
   "metadata": {},
   "outputs": [
    {
     "data": {
      "image/png": "[encoded data removed]",
      "text/plain": [
       "<Figure size 640x480 with 1 Axes>"
      ]
     },
     "metadata": {},
     "output_type": "display_data"
    }
   ],
   "source": [
    "plot_predictions(predictions=y_preds)"
   ]
  },
  {
   "cell_type": "markdown",
   "metadata": {},
   "source": [
    "## 5. Saving and loading  a PyTorch Model\n",
    "\n",
    "*If you trained a PyTorch model, chances are you'll want to save it and export it  somewhere*\n",
    "\n",
    "        torch.save()\n",
    "        torch.load()"
   ]
  },
  {
   "cell_type": "code",
   "execution_count": 59,
   "metadata": {},
   "outputs": [
    {
     "name": "stdout",
     "output_type": "stream",
     "text": [
      "Saving model to: models/notebook.pth\n"
     ]
    }
   ],
   "source": [
    "from pathlib import Path\n",
    "\n",
    "\n",
    "Model_path = Path(\"models\")                         # -> Create model directory\n",
    "Model_path.mkdir(parents=True, exist_ok=True)\n",
    "\n",
    "Model_name = \"notebook.pth\"\n",
    "Model_save_path = Model_path / Model_name\n",
    "\n",
    "print(f\"Saving model to: {Model_save_path}\")\n",
    "torch.save(obj=model_linear.state_dict(),\n",
    "           f=Model_save_path) \n",
    "\n",
    "\n"
   ]
  },
  {
   "cell_type": "code",
   "execution_count": 60,
   "metadata": {},
   "outputs": [
    {
     "name": "stdout",
     "output_type": "stream",
     "text": [
      "-rw-rw-r-- 1 lovecrush lovecrush 1502 Nov 12 22:23 models/notebook.pth\n"
     ]
    }
   ],
   "source": [
    "!ls -l models/notebook.pth"
   ]
  },
  {
   "cell_type": "markdown",
   "metadata": {},
   "source": [
    "## Loading a saves  MyTorch models a state_dict()\n",
    "\n",
    "### *Loading model*"
   ]
  },
  {
   "cell_type": "code",
   "execution_count": 76,
   "metadata": {},
   "outputs": [
    {
     "name": "stderr",
     "output_type": "stream",
     "text": [
      "/tmp/ipykernel_5648/2271046517.py:3: FutureWarning: You are using `torch.load` with `weights_only=False` (the current default value), which uses the default pickle module implicitly. It is possible to construct malicious pickle data which will execute arbitrary code during unpickling (See https://github.com/pytorch/pytorch/blob/main/SECURITY.md#untrusted-models for more details). In a future release, the default value for `weights_only` will be flipped to `True`. This limits the functions that could be executed during unpickling. Arbitrary objects will no longer be allowed to be loaded via this mode unless they are explicitly allowlisted by the user via `torch.serialization.add_safe_globals`. We recommend you start setting `weights_only=True` for any use case where you don't have full control of the loaded file. Please open an issue on GitHub for any issues related to this experimental feature.\n",
      "  loaded_model.load_state_dict(torch.load(f=Model_save_path))\n"
     ]
    },
    {
     "data": {
      "text/plain": [
       "<All keys matched successfully>"
      ]
     },
     "execution_count": 76,
     "metadata": {},
     "output_type": "execute_result"
    }
   ],
   "source": [
    "\n",
    "loaded_model = LinearRegressionModel()\n",
    "\n",
    "loaded_model.load_state_dict(torch.load(f=Model_save_path))\n",
    "\n"
   ]
  },
  {
   "cell_type": "markdown",
   "metadata": {},
   "source": [
    "### *Inferences*\n"
   ]
  },
  {
   "cell_type": "code",
   "execution_count": 62,
   "metadata": {},
   "outputs": [],
   "source": [
    "loaded_model.eval()\n",
    "\n",
    "with torch.inference_mode():\n",
    "    loaded_model_preds = loaded_model(X_test)"
   ]
  },
  {
   "cell_type": "code",
   "execution_count": 63,
   "metadata": {},
   "outputs": [
    {
     "data": {
      "text/plain": [
       "tensor([[True],\n",
       "        [True],\n",
       "        [True],\n",
       "        [True],\n",
       "        [True],\n",
       "        [True],\n",
       "        [True],\n",
       "        [True],\n",
       "        [True],\n",
       "        [True]])"
      ]
     },
     "execution_count": 63,
     "metadata": {},
     "output_type": "execute_result"
    }
   ],
   "source": [
    "y_preds == loaded_model_preds"
   ]
  },
  {
   "cell_type": "code",
   "execution_count": null,
   "metadata": {},
   "outputs": [],
   "source": []
  }
 ],
 "metadata": {
  "kernelspec": {
   "display_name": "base",
   "language": "python",
   "name": "python3"
  },
  "language_info": {
   "codemirror_mode": {
    "name": "ipython",
    "version": 3
   },
   "file_extension": ".py",
   "mimetype": "text/x-python",
   "name": "python",
   "nbconvert_exporter": "python",
   "pygments_lexer": "ipython3",
   "version": "3.12.2"
  }
 },
 "nbformat": 4,
 "nbformat_minor": 2
}
